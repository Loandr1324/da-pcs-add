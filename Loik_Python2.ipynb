{
  "nbformat": 4,
  "nbformat_minor": 0,
  "metadata": {
    "colab": {
      "name": "Loik_Python2.ipynb",
      "provenance": [],
      "authorship_tag": "ABX9TyOxStt5drAYIv2zlalkV5ow"
    },
    "kernelspec": {
      "name": "python3",
      "display_name": "Python 3"
    },
    "language_info": {
      "name": "python"
    }
  },
  "cells": [
    {
      "cell_type": "markdown",
      "source": [
        "#Задание 1\n",
        "Дана переменная, в которой хранится слово из латинских букв. Напишите код, который выводит на экран:\n",
        "\n",
        "- среднюю букву, если число букв в слове нечетное;\n",
        "- две средних буквы, если число букв четное."
      ],
      "metadata": {
        "id": "-t_mnzPs1kBD"
      }
    },
    {
      "cell_type": "code",
      "source": [
        "\n",
        "word = input('Введите слово:\\n')\n",
        "\n",
        "#word = 'test'\n",
        "#word = 'testing'\n",
        "\n",
        "center_Str = int (len(word) / 2)\n",
        "\n",
        "print('Результат:')\n",
        "if len(word) % 2 == 0:\n",
        "  print(word[center_Str - 1 : center_Str + 1])\n",
        "else:\n",
        "  print(word[center_Str])"
      ],
      "metadata": {
        "colab": {
          "base_uri": "https://localhost:8080/"
        },
        "id": "3zEilayi11q4",
        "outputId": "46b97fc7-79a3-4f67-f4a7-aae9bb746eeb"
      },
      "execution_count": 18,
      "outputs": [
        {
          "output_type": "stream",
          "name": "stdout",
          "text": [
            "Введите слово:\n",
            "Андрей\n",
            "Результат:\n",
            "др\n"
          ]
        }
      ]
    },
    {
      "cell_type": "markdown",
      "source": [
        "#Задание 2\n",
        "Напишите программу, которая последовательно запрашивает у пользователя числа (по одному за раз) и после первого нуля выводит сумму всех ранее введенных чисел."
      ],
      "metadata": {
        "id": "gQllEOiF52D4"
      }
    },
    {
      "cell_type": "code",
      "source": [
        "f = 1\n",
        "int_sum = 0\n",
        "\n",
        "while f != 0:\n",
        "  int_ = int(input('Введите число:\\n'))\n",
        "  int_sum += int_\n",
        "  f = int_\n",
        "\n",
        "print('Результат:')\n",
        "print(int_sum) "
      ],
      "metadata": {
        "colab": {
          "base_uri": "https://localhost:8080/"
        },
        "id": "BsbY6tN46M67",
        "outputId": "4ff0dac2-c5a0-43ba-8588-270ec5d8482f"
      },
      "execution_count": 24,
      "outputs": [
        {
          "output_type": "stream",
          "name": "stdout",
          "text": [
            "Введите число:\n",
            "0\n",
            "Результат:\n",
            "0\n"
          ]
        }
      ]
    },
    {
      "cell_type": "markdown",
      "source": [
        "#Задание 3\n",
        "Мы делаем MVP dating-сервиса, и у нас есть список парней и девушек.\n",
        "\n",
        "Выдвигаем гипотезу: лучшие рекомендации мы получим, если просто отсортируем имена по алфавиту и познакомим людей с одинаковыми индексами после сортировки! Но мы не будем никого знакомить, если кто-то может остаться без пары:"
      ],
      "metadata": {
        "id": "WYbY9-ru9Ojg"
      }
    },
    {
      "cell_type": "code",
      "source": [
        "#Тест №1\n",
        "boys = ['Peter', 'Alex', 'John', 'Arthur', 'Richard']\n",
        "girls = ['Kate', 'Liza', 'Kira', 'Emma', 'Trisha']\n",
        "\n",
        "#Тест №2\n",
        "#boys = ['Peter', 'Alex', 'John', 'Arthur', 'Richard', 'Michael']\n",
        "#girls = ['Kate', 'Liza', 'Kira', 'Emma', 'Trisha']\n",
        "\n",
        "print('Результат:')\n",
        "if len(boys) != len(girls):\n",
        "  print('Внимание, кто-то может остаться без пары!')\n",
        "else:\n",
        "  print('Идеальные пары:')\n",
        "  boys.sort()\n",
        "  girls.sort()\n",
        "  for i in range(len(boys)):\n",
        "    print(boys[i],'и', girls[i])"
      ],
      "metadata": {
        "colab": {
          "base_uri": "https://localhost:8080/"
        },
        "id": "yzLnUjVz9uWA",
        "outputId": "a91d17ea-c956-4f96-f2f8-14036f104c21"
      },
      "execution_count": 37,
      "outputs": [
        {
          "output_type": "stream",
          "name": "stdout",
          "text": [
            "Результат:\n",
            "Идеальные пары:\n",
            "Alex и Emma\n",
            "Arthur и Kate\n",
            "John и Kira\n",
            "Peter и Liza\n",
            "Richard и Trisha\n"
          ]
        }
      ]
    },
    {
      "cell_type": "markdown",
      "source": [
        "#Задание 4\n",
        "У нас есть список, содержащий информацию о среднедневной температуре в Фаренгейтах за произвольный период по странам (структура данных в примере). \n",
        "\n",
        "Необходимо написать код, который рассчитает среднюю температуру за период в Цельсиях(!) для каждой страны."
      ],
      "metadata": {
        "id": "rz32CtciCW5V"
      }
    },
    {
      "cell_type": "code",
      "source": [
        "from statistics import mean\n",
        "\n",
        "countries_temperature = [\n",
        "['Thailand', [75.2, 77, 78.8, 73.4, 68, 75.2, 77]],\n",
        "['Germany', [57.2, 55.4, 59, 59, 53.6]],\n",
        "['Russia', [35.6, 37.4, 39.2, 41, 42.8, 39.2, 35.6]],\n",
        "['Poland', [50, 50, 53.6, 57.2, 55.4, 55.4]]\n",
        "]\n",
        "\n",
        "for item in countries_temperature:\n",
        "  cel_mean_temp = round( (mean(item[1]) - 32) * 5/9, 1)\n",
        "  print(item[0],'-', cel_mean_temp, 'C')"
      ],
      "metadata": {
        "colab": {
          "base_uri": "https://localhost:8080/"
        },
        "id": "9gA7ZdtcCgxZ",
        "outputId": "854b6e4c-22ed-4b09-8d6d-5a51203bb4a1"
      },
      "execution_count": 68,
      "outputs": [
        {
          "output_type": "stream",
          "name": "stdout",
          "text": [
            "Thailand - 23.9 C\n",
            "Germany - 13.8 C\n",
            "Russia - 3.7 C\n",
            "Poland - 12.0 C\n"
          ]
        }
      ]
    },
    {
      "cell_type": "markdown",
      "source": [
        "#Задание 5 (необязательное)\n",
        "Дан поток логов по количеству просмотренных страниц для каждого пользователя. \n",
        "\n",
        "Вам необходимо написать алгоритм, который считает среднее значение просмотров на пользователя. Т. е. надо посчитать отношение суммы всех просмотров к количеству уникальных пользователей."
      ],
      "metadata": {
        "id": "VuXaWR74Ki15"
      }
    },
    {
      "cell_type": "code",
      "source": [
        "from statistics import mean\n",
        "# Тест №1\n",
        "stream = [\n",
        "'2018-01-01,user1,3',\n",
        "'2018-01-07,user1,4',\n",
        "'2018-03-29,user1,1',\n",
        "'2018-04-04,user1,13',\n",
        "'2018-01-05,user2,7',\n",
        "'2018-06-14,user3,4',\n",
        "'2018-07-02,user3,10',\n",
        "'2018-03-21,user4,19',\n",
        "'2018-03-22,user4,4',\n",
        "'2018-04-22,user4,8',\n",
        "'2018-05-03,user4,9',\n",
        "'2018-05-11,user4,11',\n",
        "]\n",
        "# Тест №2\n",
        "# stream = ['2018-01-01,user100,150', '2018-01-07,user99,205', '2018-03-29,user1001,81']\n",
        "\n",
        "stream_list = [item.split(',') for item in stream] # Разбиваем строку на элементы списка\n",
        "user_list = set([item[1] for item in stream_list]) # Создаём множество уникальных пользователей\n",
        "\n",
        "# Суммируем количество просмотров по каждому уникальному пользователю\n",
        "int_ = [sum([int(item[2]) for item in stream_list if item[1] == user]) for user in user_list]\n",
        "\n",
        "# Выводим на экран среднее значение просмотров на пользователя\n",
        "print('Среднее количество просмотров на уникального пользователя:', round(mean(int_),2))"
      ],
      "metadata": {
        "colab": {
          "base_uri": "https://localhost:8080/"
        },
        "id": "Bob9bKvHK0PX",
        "outputId": "2833bc8d-35b8-4cd7-9b6b-e4b8085351ec"
      },
      "execution_count": 115,
      "outputs": [
        {
          "output_type": "stream",
          "name": "stdout",
          "text": [
            "Среднее количество просмотров на уникального пользователя: 23.25\n"
          ]
        }
      ]
    },
    {
      "cell_type": "markdown",
      "source": [
        "#Задание 6 (необязательное)\n",
        "Необходимо у пользователя запрашивать набор чисел разделенных пробелом. \n",
        "\n",
        "В результате должны выводиться числа, которые повторяются в вводе более одного раза."
      ],
      "metadata": {
        "id": "_o4tKwBXcyTz"
      }
    },
    {
      "cell_type": "code",
      "source": [
        "numbers = input('Введите числа:\\n')\n",
        "# numbers = '4 8 0 3 4 2 0 3'\n",
        "# numbers = '1 1 2 2 3 3'\n",
        "# numbers = '1 1 1 1 1 2 2 2'\n",
        "\n",
        "# Создаём множество уникальных значений\n",
        "numbers_set = sorted(set(numbers.split())) \n",
        "\n",
        "# Создаём список значений из множества, которые повторяются в вводе более одного раза\n",
        "result = [item for item in numbers_set if numbers.count(item) > 1]\n",
        "\n",
        "# Выводим полученный список значений, преобразовав в строку\n",
        "print('Результат:')\n",
        "print(\" \".join(result))\n"
      ],
      "metadata": {
        "colab": {
          "base_uri": "https://localhost:8080/"
        },
        "id": "V1cwnpUJWYny",
        "outputId": "7781dff9-d984-40fa-e19e-dea1871f912f"
      },
      "execution_count": 143,
      "outputs": [
        {
          "output_type": "stream",
          "name": "stdout",
          "text": [
            "Введите числа:\n",
            "4 8 0 3 4 2 0 3\n",
            "Результат:\n",
            "0 3 4\n"
          ]
        }
      ]
    }
  ]
}